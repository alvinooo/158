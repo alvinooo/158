{
 "cells": [
  {
   "cell_type": "code",
   "execution_count": 19,
   "metadata": {
    "collapsed": true
   },
   "outputs": [],
   "source": [
    "import gzip\n",
    "import random\n",
    "import numpy as np\n",
    "import string\n",
    "from collections import defaultdict\n",
    "\n",
    "def readGz(f):\n",
    "  for l in gzip.open(f):\n",
    "    yield eval(l)"
   ]
  },
  {
   "cell_type": "code",
   "execution_count": 20,
   "metadata": {
    "collapsed": false
   },
   "outputs": [],
   "source": [
    "# Helpfulness prediction\n",
    "data = []\n",
    "labels = []\n",
    "\n",
    "for l in readGz(\"train.json.gz\"):\n",
    "    length, rating = len(l['reviewText']), float(l['rating'])\n",
    "    data.append([1, length, rating])\n",
    "    helpful = l['helpful']\n",
    "    ratio = helpful['nHelpful'] * 1.0 / helpful['outOf'] if helpful['outOf'] > 0 else 0\n",
    "    labels.append([ratio, helpful['outOf']])\n",
    "\n",
    "pairs = zip(data, labels)\n",
    "random.seed(0)\n",
    "random.shuffle(pairs)\n",
    "data, labels = zip(*pairs)\n",
    "\n",
    "train_data, train_labels = data[:len(data) / 2], labels[:len(labels) / 2]\n",
    "valid_data, valid_labels = data[len(data) / 2:], labels[len(labels) / 2:]"
   ]
  },
  {
   "cell_type": "code",
   "execution_count": 21,
   "metadata": {
    "collapsed": false
   },
   "outputs": [
    {
     "name": "stdout",
     "output_type": "stream",
     "text": [
      "0.246068945638\n"
     ]
    }
   ],
   "source": [
    "avg = sum([d[0] for d in train_labels]) / len(train_labels)\n",
    "print avg"
   ]
  },
  {
   "cell_type": "code",
   "execution_count": 22,
   "metadata": {
    "collapsed": false
   },
   "outputs": [
    {
     "name": "stdout",
     "output_type": "stream",
     "text": [
      "0.820710015467\n"
     ]
    }
   ],
   "source": [
    "error = sum(map(abs, [(avg - label) * outOf for label, outOf in valid_labels])) / len(valid_labels)\n",
    "print error"
   ]
  },
  {
   "cell_type": "code",
   "execution_count": 23,
   "metadata": {
    "collapsed": false
   },
   "outputs": [],
   "source": [
    "nonzero_train_data, nonzero_train_labels = zip(*filter(lambda pair: pair[1][1] > 0, zip(train_data, train_labels)))\n",
    "theta, residuals, rank, s = np.linalg.lstsq(np.array(nonzero_train_data), np.array([l[0] for l in nonzero_train_labels]))"
   ]
  },
  {
   "cell_type": "code",
   "execution_count": 24,
   "metadata": {
    "collapsed": false
   },
   "outputs": [
    {
     "data": {
      "text/plain": [
       "array([  5.71335822e-01,   3.92673387e-05,   4.81492996e-02])"
      ]
     },
     "execution_count": 24,
     "metadata": {},
     "output_type": "execute_result"
    }
   ],
   "source": [
    "theta"
   ]
  },
  {
   "cell_type": "code",
   "execution_count": 25,
   "metadata": {
    "collapsed": false
   },
   "outputs": [
    {
     "data": {
      "text/plain": [
       "0.23849722356154213"
      ]
     },
     "execution_count": 25,
     "metadata": {},
     "output_type": "execute_result"
    }
   ],
   "source": [
    "predict_ratio = np.dot(np.array(valid_data), theta)\n",
    "sum(map(abs, [(ratio - l[0]) * l[1] for ratio, l in zip(predict_ratio, valid_labels)])) / len(valid_labels)"
   ]
  },
  {
   "cell_type": "code",
   "execution_count": 26,
   "metadata": {
    "collapsed": false
   },
   "outputs": [],
   "source": [
    "review_map = {}\n",
    "\n",
    "for l in readGz(\"test_Helpful.json.gz\"):\n",
    "    user,item = l['reviewerID'],l['itemID']\n",
    "    review_map[(user, item)] = [len(l['reviewText']), float(l['rating'])]"
   ]
  },
  {
   "cell_type": "code",
   "execution_count": 27,
   "metadata": {
    "collapsed": false
   },
   "outputs": [],
   "source": [
    "features = []\n",
    "\n",
    "predictions = open(\"predictions_Helpful.txt\", 'w')\n",
    "for l in open(\"pairs_Helpful.txt\"):\n",
    "    if l.startswith(\"userID\"):\n",
    "        #header\n",
    "        predictions.write(l)\n",
    "        continue\n",
    "\n",
    "    u,i,outOf = l.strip().split('-')\n",
    "    outOf = int(outOf)\n",
    "    length, rating = review_map[(u, i)]\n",
    "    feature = np.array([1, length, rating])\n",
    "\n",
    "    predictions.write(u + '-' + i + '-' + str(outOf) + ',' + str(outOf*np.dot(feature, theta)) + '\\n')\n",
    "\n",
    "predictions.close()"
   ]
  },
  {
   "cell_type": "code",
   "execution_count": null,
   "metadata": {
    "collapsed": true
   },
   "outputs": [],
   "source": []
  }
 ],
 "metadata": {
  "kernelspec": {
   "display_name": "Python 2",
   "language": "python",
   "name": "python2"
  },
  "language_info": {
   "codemirror_mode": {
    "name": "ipython",
    "version": 2
   },
   "file_extension": ".py",
   "mimetype": "text/x-python",
   "name": "python",
   "nbconvert_exporter": "python",
   "pygments_lexer": "ipython2",
   "version": "2.7.12"
  }
 },
 "nbformat": 4,
 "nbformat_minor": 2
}
