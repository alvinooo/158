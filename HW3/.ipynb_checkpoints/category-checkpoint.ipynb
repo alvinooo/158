{
 "cells": [
  {
   "cell_type": "code",
   "execution_count": 31,
   "metadata": {
    "collapsed": true
   },
   "outputs": [],
   "source": [
    "import gzip\n",
    "import random\n",
    "import numpy as np\n",
    "import string\n",
    "import operator\n",
    "from collections import defaultdict\n",
    "from sklearn import svm\n",
    "\n",
    "def readGz(f):\n",
    "  for l in gzip.open(f):\n",
    "    yield eval(l)\n",
    "\n",
    "# Category prediction\n",
    "data = []\n",
    "labels = []\n",
    "\n",
    "for l in readGz(\"train.json.gz\"):\n",
    "    data.append([l['reviewerID'], l['reviewText']]) # Feature matrix\n",
    "    labels.append(l['categoryID'])\n",
    "\n",
    "pairs = zip(data, labels)\n",
    "random.seed(0)\n",
    "random.shuffle(pairs)\n",
    "data, labels = zip(*pairs)\n",
    "\n",
    "train_data, train_labels = data[:len(data) / 2], labels[:len(labels) / 2]\n",
    "valid_data, valid_labels = data[len(data) / 2:], labels[len(labels) / 2:]"
   ]
  },
  {
   "cell_type": "code",
   "execution_count": 32,
   "metadata": {
    "collapsed": false,
    "scrolled": true
   },
   "outputs": [
    {
     "name": "stdout",
     "output_type": "stream",
     "text": [
      "0.80077\n"
     ]
    }
   ],
   "source": [
    "category_freq = defaultdict(int)\n",
    "user_category_freq = defaultdict(lambda : defaultdict(int))\n",
    "\n",
    "for point, category in zip(train_data, train_labels):\n",
    "    category_freq[category] += 1\n",
    "    user_category_freq[point[0]][category] += 1\n",
    "\n",
    "valid_accuracy = 0\n",
    "for point, label in zip(valid_data, valid_labels):\n",
    "    purchases = user_category_freq[point[0]]\n",
    "    most_category, most_count = 0, 0\n",
    "    for category in purchases.keys():\n",
    "        if purchases[category] > most_count:\n",
    "            most_category, most_count = category, purchases[category]\n",
    "    valid_accuracy += 1 if most_category == label else 0\n",
    "print valid_accuracy * 1.0 / len(valid_labels)"
   ]
  },
  {
   "cell_type": "code",
   "execution_count": 33,
   "metadata": {
    "collapsed": false
   },
   "outputs": [
    {
     "name": "stdout",
     "output_type": "stream",
     "text": [
      "[(0, ['i', 'it', 'love', 'bra', 'wear', 'so', 'but', 'size', 'cute', 'was']), (1, ['he', 'watch', 'the', 'of', 'for', 'good', 'husband', 'you', 'these', 'his']), (2, ['she', 'her', 'daughter', 'for', 'it', 'my', 'old', 'loves', 'year', 'little']), (3, ['he', 'son', 'for', 'my', 'old', 'his', 'we', 'year', 'him', 'loves']), (4, ['these', 'are', 'for', 'they', 'her', 'cute', 'and', 'my', 'old', 'we'])]\n"
     ]
    }
   ],
   "source": [
    "word_count = defaultdict(int)\n",
    "word_count_category = defaultdict(lambda : defaultdict(int))\n",
    "punctuation = set(string.punctuation)\n",
    "for text, category in zip([d[1] for d in train_data], train_labels):\n",
    "    r = ''.join([c for c in text.lower() if not c in punctuation])\n",
    "    for word in r.split():\n",
    "        word_count[word] += 1\n",
    "        word_count_category[category][word] += 1\n",
    "\n",
    "top_words = sorted([(word_count[word], word) for word in word_count], reverse=True)[:500]\n",
    "total = float(sum([w[0] for w in top_words]))\n",
    "top_freq = [(w[0] / total, w[1]) for w in top_words]\n",
    "\n",
    "top_words_category = defaultdict(list)\n",
    "for count, word in top_words:\n",
    "    for category in word_count_category:\n",
    "        top_words_category[category].append((word_count_category[category][word], word))\n",
    "total_category = {category:float(sum(zip(*top_words_category[category])[0])) for category in top_words_category}\n",
    "top_freq_category = {category:[(count / total_category[category], word) for count, word in top_words_category[category]] for category in top_words_category}\n",
    "\n",
    "more_freq = {category:sorted([(category_freq[0] - freq[0], freq[1]) for category_freq, freq in zip(top_freq_category[category], top_freq)], reverse=True)[:10] for category in top_freq_category}\n",
    "print [(category, [pair[1] for pair in more_freq[category]]) for category in more_freq]"
   ]
  },
  {
   "cell_type": "code",
   "execution_count": 34,
   "metadata": {
    "collapsed": false
   },
   "outputs": [
    {
     "name": "stdout",
     "output_type": "stream",
     "text": [
      "Accuracy w/ lambda 0.01 = 0.705870151421\n",
      "Accuracy w/ lambda 0.1 = 0.705870151421\n",
      "Accuracy w/ lambda 1 = 0.705870151421\n",
      "Accuracy w/ lambda 10 = 0.668533499274\n",
      "Accuracy w/ lambda 100 = 0.630159717901\n"
     ]
    }
   ],
   "source": [
    "train_pairs = [([word in point[1] for word in zip(*top_words)[1]], label) for point, label in zip(train_data[:5000], train_labels[:5000]) if label <= 1]\n",
    "valid_pairs = [([word in point[1] for word in zip(*top_words)[1]], label) for point, label in zip(valid_data[:5000], valid_labels[:5000]) if label <= 1]\n",
    "\n",
    "for reg in [0.01, 0.1, 1, 10, 100]:\n",
    "    clf = svm.SVC(C=reg)\n",
    "    clf.fit(zip(*train_pairs)[0], zip(*train_pairs)[1])\n",
    "    predict_valid = clf.predict(zip(*valid_pairs)[0])\n",
    "    print \"Accuracy w/ lambda\", reg, \"=\", len(filter(lambda pair: pair[0] == pair[1], zip(predict_valid, valid_labels))) / float(len(predict_valid))"
   ]
  },
  {
   "cell_type": "code",
   "execution_count": 35,
   "metadata": {
    "collapsed": false
   },
   "outputs": [
    {
     "name": "stdout",
     "output_type": "stream",
     "text": [
      "Accuracy w/ lambda 0.01 = 0.7534\n",
      "Accuracy w/ lambda 0.1 = 0.7496\n",
      "Accuracy w/ lambda 1 = 0.7376\n",
      "Accuracy w/ lambda 10 = 0.731\n",
      "Accuracy w/ lambda 100 = 0.6906\n"
     ]
    }
   ],
   "source": [
    "train_pairs = [([word in point[1] for word in zip(*top_words)[1]], label) for point, label in zip(train_data[:5000], train_labels[:5000])]\n",
    "valid_pairs = [([word in point[1] for word in zip(*top_words)[1]], label) for point, label in zip(valid_data[:5000], valid_labels[:5000])]\n",
    "\n",
    "best_lambda, best_accuracy = None, 0\n",
    "for reg in [0.01, 0.1, 1, 10, 100]:\n",
    "    clf = svm.LinearSVC(C=reg)\n",
    "    clf.fit(zip(*train_pairs)[0], zip(*train_pairs)[1])\n",
    "    scores = clf.decision_function(zip(*valid_pairs)[0])\n",
    "    predict_valid = np.argmax(scores, axis=1)\n",
    "\n",
    "    accuracy = len(filter(lambda pair: pair[0] == pair[1], zip(predict_valid, valid_labels))) / float(len(predict_valid))\n",
    "    print \"Accuracy w/ lambda\", reg, \"=\", accuracy\n",
    "    if accuracy > best_accuracy:\n",
    "        best_lambda, best_accuracy = reg, accuracy"
   ]
  },
  {
   "cell_type": "code",
   "execution_count": 38,
   "metadata": {
    "collapsed": false
   },
   "outputs": [],
   "source": [
    "review = []\n",
    "test_data = []\n",
    "for l in readGz(\"test_Category.json.gz\"):\n",
    "    review.append([l['reviewerID'], l['reviewHash']])\n",
    "    feature = [word in l['reviewText'] for word in zip(*top_words)[1]]\n",
    "    test_data.append(feature)\n",
    "\n",
    "clf = svm.LinearSVC(C=best_lambda)\n",
    "clf.fit(zip(*train_pairs)[0], zip(*train_pairs)[1])\n",
    "scores = clf.decision_function(test_data)\n",
    "predict_test = np.argmax(scores, axis=1)\n",
    "\n",
    "predictions = open(\"predictions_Category.txt\", 'w')\n",
    "predictions.write(\"userID-reviewHash,category\\n\")\n",
    "for key, value in zip(review, predict_test):\n",
    "    predictions.write(key[0] + '-' + key[1] + ',' + str(value) + '\\n')\n",
    "predictions.close()"
   ]
  }
 ],
 "metadata": {
  "kernelspec": {
   "display_name": "Python 2",
   "language": "python",
   "name": "python2"
  },
  "language_info": {
   "codemirror_mode": {
    "name": "ipython",
    "version": 2
   },
   "file_extension": ".py",
   "mimetype": "text/x-python",
   "name": "python",
   "nbconvert_exporter": "python",
   "pygments_lexer": "ipython2",
   "version": "2.7.12"
  }
 },
 "nbformat": 4,
 "nbformat_minor": 2
}
