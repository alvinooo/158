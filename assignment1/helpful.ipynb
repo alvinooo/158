{
 "cells": [
  {
   "cell_type": "code",
   "execution_count": 1,
   "metadata": {
    "collapsed": true
   },
   "outputs": [],
   "source": [
    "import gzip\n",
    "import random\n",
    "import numpy as np\n",
    "import string\n",
    "import math\n",
    "from collections import defaultdict\n",
    "from sklearn.linear_model import Ridge\n",
    "\n",
    "def readGz(f):\n",
    "  for l in gzip.open(f):\n",
    "    yield eval(l)"
   ]
  },
  {
   "cell_type": "code",
   "execution_count": 2,
   "metadata": {
    "collapsed": true
   },
   "outputs": [],
   "source": [
    "user_reviews = defaultdict(lambda: [0] * 3)\n",
    "for l in readGz(\"train.json.gz\"):\n",
    "    user_reviews[l['reviewerID']][0] += l['helpful']['nHelpful']\n",
    "    user_reviews[l['reviewerID']][1] += l['helpful']['outOf']\n",
    "    user_reviews[l['reviewerID']][2] += l['helpful']['nHelpful']\n",
    "for user in user_reviews:\n",
    "    user_reviews[user][2] = user_reviews[user][2] / float(user_reviews[user][1]) if user_reviews[user][1] > 0 else 0"
   ]
  },
  {
   "cell_type": "code",
   "execution_count": 3,
   "metadata": {
    "collapsed": false
   },
   "outputs": [
    {
     "name": "stdout",
     "output_type": "stream",
     "text": [
      "0.20649\n"
     ]
    }
   ],
   "source": [
    "def feature(l):\n",
    "    vector = [1]\n",
    "    vector.append(len(l['reviewText']))\n",
    "    vector.extend([1, 0] if 'price' not in l else [0, l['price']])\n",
    "    vector.extend([1 if i + 1 == l['categoryID'] else 0 for i in xrange(5)])\n",
    "    vector.extend([1 if i + 1 == math.ceil(float(l['rating'])) else 0 for i in xrange(5)])\n",
    "    vector.extend([1, 0] if l['helpful']['outOf'] == 0 else [0, float(-l['unixReviewTime']) / l['helpful']['outOf']])\n",
    "#     if l['reviewerID'] not in user_reviews or user_reviews[l['reviewerID']][1] == 0:\n",
    "#         vector.extend([1, 0])\n",
    "#     else:\n",
    "#         vector.extend([0, float(-l['unixReviewTime']) / user_reviews[l['reviewerID']][1]])\n",
    "    return vector\n",
    "\n",
    "data = []\n",
    "labels = []\n",
    "\n",
    "for l in readGz(\"train.json.gz\"):\n",
    "    data.append(feature(l))\n",
    "    helpful = l['helpful']\n",
    "    ratio = helpful['nHelpful'] * 1.0 / helpful['outOf'] if helpful['outOf'] > 0 else 0\n",
    "    labels.append([ratio, helpful['outOf']])\n",
    "\n",
    "pairs = zip(data, labels)\n",
    "random.seed(0)\n",
    "random.shuffle(pairs)\n",
    "data, labels = zip(*pairs)\n",
    "\n",
    "train_data, train_labels = data[:len(data) / 2], labels[:len(labels) / 2]\n",
    "valid_data, valid_labels = data[len(data) / 2:], labels[len(labels) / 2:]\n",
    "\n",
    "nonzero_train_data, nonzero_train_labels = zip(*filter(lambda pair: pair[1][1] > 0, zip(train_data, train_labels)))\n",
    "\n",
    "reg = Ridge(alpha=10)\n",
    "reg.fit(nonzero_train_data, [l[0] for l in nonzero_train_labels])\n",
    "predict_ratio = np.ceil(reg.predict(valid_data))\n",
    "# theta, residuals, rank, s = np.linalg.lstsq(np.array(nonzero_train_data), np.array([l[0] for l in nonzero_train_labels]))\n",
    "# predict_ratio = np.dot(np.array(valid_data), theta)\n",
    "\n",
    "print sum(map(abs, [(ratio - l[0]) * l[1] for ratio, l in zip(predict_ratio, valid_labels)])) / len(valid_labels)"
   ]
  },
  {
   "cell_type": "code",
   "execution_count": 4,
   "metadata": {
    "collapsed": false
   },
   "outputs": [],
   "source": [
    "review_map = {}\n",
    "\n",
    "for l in readGz(\"test_Helpful.json.gz\"):\n",
    "    user,item = l['reviewerID'],l['itemID']\n",
    "    review_map[(user, item)] = l\n",
    "\n",
    "predictions = open(\"predictions_Helpful.txt\", 'w')\n",
    "for l in open(\"pairs_Helpful.txt\"):\n",
    "    if l.startswith(\"userID\"):\n",
    "        #header\n",
    "        predictions.write(l)\n",
    "        continue\n",
    "\n",
    "    u,i,outOf = l.strip().split('-')\n",
    "    outOf = int(outOf)\n",
    "    ratio = np.ceil(reg.predict([feature(review_map[(u, i)])]))\n",
    "\n",
    "    predictions.write(u + '-' + i + '-' + str(outOf) + ',' + str(outOf * ratio[0]) + '\\n')\n",
    "\n",
    "predictions.close()"
   ]
  }
 ],
 "metadata": {
  "kernelspec": {
   "display_name": "Python 2",
   "language": "python",
   "name": "python2"
  },
  "language_info": {
   "codemirror_mode": {
    "name": "ipython",
    "version": 2
   },
   "file_extension": ".py",
   "mimetype": "text/x-python",
   "name": "python",
   "nbconvert_exporter": "python",
   "pygments_lexer": "ipython2",
   "version": "2.7.12"
  }
 },
 "nbformat": 4,
 "nbformat_minor": 2
}
