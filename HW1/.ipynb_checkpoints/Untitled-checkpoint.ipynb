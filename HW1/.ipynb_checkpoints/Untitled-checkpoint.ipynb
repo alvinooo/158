{
 "cells": [
  {
   "cell_type": "code",
   "execution_count": 2,
   "metadata": {
    "collapsed": false
   },
   "outputs": [
    {
     "name": "stdout",
     "output_type": "stream",
     "text": [
      "Theta [  1.50192842e+02   6.55199614e-02  -1.86317709e+00   2.20902007e-02\n",
      "   8.14828026e-02  -2.47276537e-01   3.73276519e-03  -2.85747419e-04\n",
      "  -1.50284181e+02   6.86343742e-01   6.31476473e-01   1.93475697e-01]\n",
      "MSE [ 0.56315406]\n",
      "Training MSE [ 0.6023075]\n",
      "Test MSE 0.562457130315\n"
     ]
    }
   ],
   "source": [
    "import numpy as np\n",
    "import urllib\n",
    "import scipy.optimize\n",
    "import csv\n",
    "\n",
    "def parseData(fname):\n",
    "    data = []\n",
    "    labels = []\n",
    "    features = urllib.urlopen(fname)\n",
    "    data_reader = csv.reader(features, delimiter=';')\n",
    "    next(data_reader)\n",
    "    for row in data_reader:\n",
    "        data.append(map(lambda n: float(n), row[:-1]))\n",
    "        labels.append(float(row[-1]))\n",
    "    return data, labels\n",
    "\n",
    "def feature(datum):\n",
    "    x = np.array(datum)\n",
    "    x = np.insert(x, 0, 1, axis=1)\n",
    "    return x\n",
    "\n",
    "data, labels = parseData('https://archive.ics.uci.edu/ml/machine-learning-databases/wine-quality/winequality-white.csv')\n",
    "x = feature(data)\n",
    "y = np.array(labels)\n",
    "\n",
    "# 4\n",
    "theta, residuals, rank, s = np.linalg.lstsq(x, y.T)\n",
    "print \"Theta\", theta\n",
    "print \"MSE\", residuals / len(data)\n",
    "\n",
    "# 5\n",
    "x_train, x_test = x[:len(x) / 2], x[len(x) / 2:]\n",
    "y_train, y_test = y[:len(y) / 2], y[len(y) / 2:]\n",
    "theta, residuals, rank, s = np.linalg.lstsq(x_train, y_train.T)\n",
    "print \"Training MSE\", residuals / len(x_train)\n",
    "error = np.dot(x_test, theta) - y_test\n",
    "print \"Test MSE\", np.dot(error, error) / len(y_test)"
   ]
  }
 ],
 "metadata": {
  "kernelspec": {
   "display_name": "Python 2",
   "language": "python",
   "name": "python2"
  },
  "language_info": {
   "codemirror_mode": {
    "name": "ipython",
    "version": 2
   },
   "file_extension": ".py",
   "mimetype": "text/x-python",
   "name": "python",
   "nbconvert_exporter": "python",
   "pygments_lexer": "ipython2",
   "version": "2.7.12"
  }
 },
 "nbformat": 4,
 "nbformat_minor": 2
}
