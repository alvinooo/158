{
 "cells": [
  {
   "cell_type": "code",
   "execution_count": 3,
   "metadata": {
    "collapsed": true
   },
   "outputs": [],
   "source": [
    "import numpy as np\n",
    "import pandas as pd\n",
    "import matplotlib.pyplot as plt\n",
    "import scipy\n",
    "from sklearn import linear_model\n",
    "%matplotlib inline\n",
    "import math\n",
    "\n",
    "def nDCG(predictions, label):\n",
    "    return sum([(2 ** (predictions[i] == label) - 1) / math.log(i + 2, 2) for i in xrange(len(predictions))])"
   ]
  },
  {
   "cell_type": "code",
   "execution_count": 4,
   "metadata": {
    "collapsed": false
   },
   "outputs": [
    {
     "name": "stderr",
     "output_type": "stream",
     "text": [
      "/home/ubuntu/.local/lib/python2.7/site-packages/ipykernel/__main__.py:6: RuntimeWarning: invalid value encountered in greater\n",
      "/home/ubuntu/.local/lib/python2.7/site-packages/ipykernel/__main__.py:6: RuntimeWarning: invalid value encountered in less\n"
     ]
    }
   ],
   "source": [
    "df_train = pd.read_csv(\"train_users_2.csv\")\n",
    "df_age_brackets = pd.read_csv(\"age_gender_bkts.csv\")\n",
    "df_countries = pd.read_csv(\"countries.csv\")\n",
    "\n",
    "av = df_train.age.values\n",
    "df_train['age'] = np.where(np.logical_and(av>1919, av<1995), 2014-av, av)\n",
    "df_train = df_train.merge(df_countries, how=\"left\")\n",
    "\n",
    "# df_user_sessions = pd.read_csv(\"user_sessions.csv\")\n",
    "# df_train = df_train.merge(df_user_sessions, how=\"left\")\n",
    "# df_train.fillna(0, inplace=True)\n",
    "\n",
    "# df_test = pd.read_csv('test_users.csv')"
   ]
  },
  {
   "cell_type": "code",
   "execution_count": 81,
   "metadata": {
    "collapsed": false
   },
   "outputs": [
    {
     "name": "stdout",
     "output_type": "stream",
     "text": [
      "0.339515860783\n",
      "0.524153096899\n"
     ]
    }
   ],
   "source": [
    "features = []\n",
    "features.append(pd.get_dummies(df_train[\"gender\"]))\n",
    "features.append(pd.get_dummies(df_train[\"language\"]))\n",
    "features.append(pd.get_dummies(pd.cut(df_train[\"age\"], range(10, 90, 5))))\n",
    "features.append(df_train[\"language_levenshtein_distance\"])\n",
    "features.append(df_train[\"country_destination\"])\n",
    "\n",
    "df_features = pd.concat(features, axis=1)\n",
    "df_features.fillna(100, inplace=True)\n",
    "\n",
    "df_features_train = df_features[df_features.country_destination != \"NDF\"].drop(\"country_destination\", axis=1)\n",
    "\n",
    "country_one_hot = pd.get_dummies(df_train.country_destination)\n",
    "df_labels_train = np.argmax(country_one_hot[country_one_hot.NDF != 1].values, axis=1)\n",
    "df_labels = np.argmax(country_one_hot.values, axis=1)\n",
    "\n",
    "clf = linear_model.LogisticRegression(C=0.01)\n",
    "clf.fit(df_features_train, df_labels_train)\n",
    "\n",
    "scores = clf.predict_proba(df_features.drop(\"country_destination\", axis=1))\n",
    "predict = np.argmax(scores, axis=1)\n",
    "predict = np.where(np.greater(predict, 6), predict + 1, predict)\n",
    "print len(filter(lambda xy: xy[0] == xy[1], zip(predict, df_labels))) / float(len(predict))\n",
    "relevance_scores = map(lambda py: nDCG(py[0][:11], py[1]), zip(np.argsort(scores, axis=1), df_labels))\n",
    "print np.average(relevance_scores)"
   ]
  },
  {
   "cell_type": "code",
   "execution_count": 70,
   "metadata": {
    "collapsed": false
   },
   "outputs": [],
   "source": [
    "scores = clf.predict_proba(df_features_train)\n",
    "predict = np.argmax(scores, axis=1)\n",
    "predict = np.where(np.greater(predict, 6), predict + 1, predict) # adjust for missing NDF category in "
   ]
  },
  {
   "cell_type": "code",
   "execution_count": 104,
   "metadata": {
    "collapsed": false
   },
   "outputs": [
    {
     "name": "stdout",
     "output_type": "stream",
     "text": [
      "0.467774805459\n"
     ]
    }
   ],
   "source": [
    "df_features_ndf = df_features[df_features.country_destination == \"NDF\"].drop(\"country_destination\", axis=1)\n",
    "\n",
    "scores = clf.predict_proba(df_features.drop(\"country_destination\", axis=1))\n",
    "predict = np.where(np.greater(np.max(scores, axis=1), 0.5), np.argmax(scores, axis=1), 7)\n",
    "predict = np.where(map(lambda x: x > 6 and x != 7, predict), predict + 1, predict) # adjust for missing NDF category\n",
    "print len(filter(lambda xy: xy[0] == xy[1], zip(predict, df_labels))) / float(len(predict))"
   ]
  },
  {
   "cell_type": "code",
   "execution_count": 110,
   "metadata": {
    "collapsed": false
   },
   "outputs": [
    {
     "name": "stdout",
     "output_type": "stream",
     "text": [
      "0.467774805459\n",
      "k = 0 0.0\n",
      "k = 1 0.293125822788\n",
      "k = 2 0.293193807405\n",
      "k = 3 0.293198492321\n",
      "k = 4 0.293198492321\n",
      "k = 5 0.294579520468\n",
      "k = 6 0.502416971237\n",
      "k = 7 0.504073869854\n",
      "k = 8 0.508129300008\n",
      "k = 9 0.514203463124\n",
      "k = 10 0.524153096899\n"
     ]
    }
   ],
   "source": [
    "print len(filter(lambda xy: xy[0] == xy[1], zip(predict, df_labels))) / float(len(predict))\n",
    "for k in xrange(11):\n",
    "    print \"k =\", k, np.average(map(lambda py: nDCG(py[0][:k], py[1]), zip(np.argsort(scores, axis=1), df_labels)))"
   ]
  },
  {
   "cell_type": "code",
   "execution_count": 111,
   "metadata": {
    "collapsed": false
   },
   "outputs": [
    {
     "name": "stdout",
     "output_type": "stream",
     "text": [
      "0.524153096899\n"
     ]
    }
   ],
   "source": [
    "print np.average(map(lambda py: nDCG(py[0][:11], py[1]), zip(np.argsort(scores, axis=1), df_labels)))"
   ]
  },
  {
   "cell_type": "code",
   "execution_count": 113,
   "metadata": {
    "collapsed": false
   },
   "outputs": [],
   "source": [
    "# country_one_hot"
   ]
  },
  {
   "cell_type": "code",
   "execution_count": 114,
   "metadata": {
    "collapsed": false
   },
   "outputs": [],
   "source": [
    "baseline_scores = map(lambda py: nDCG(py[0], py[1]), zip([[7, 10, 11, 4, 6, 5]] * len(df_labels), df_labels))"
   ]
  },
  {
   "cell_type": "code",
   "execution_count": 115,
   "metadata": {
    "collapsed": false
   },
   "outputs": [
    {
     "data": {
      "text/plain": [
       "0.81064373496177033"
      ]
     },
     "execution_count": 115,
     "metadata": {},
     "output_type": "execute_result"
    }
   ],
   "source": [
    "np.average(baseline_scores)"
   ]
  }
 ],
 "metadata": {
  "kernelspec": {
   "display_name": "Python 2",
   "language": "python",
   "name": "python2"
  },
  "language_info": {
   "codemirror_mode": {
    "name": "ipython",
    "version": 2
   },
   "file_extension": ".py",
   "mimetype": "text/x-python",
   "name": "python",
   "nbconvert_exporter": "python",
   "pygments_lexer": "ipython2",
   "version": "2.7.12"
  }
 },
 "nbformat": 4,
 "nbformat_minor": 2
}
